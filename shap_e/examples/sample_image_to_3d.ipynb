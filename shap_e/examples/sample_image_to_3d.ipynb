{
  "cells": [
    {
      "cell_type": "markdown",
      "metadata": {
        "id": "view-in-github",
        "colab_type": "text"
      },
      "source": [
        "<a href=\"https://colab.research.google.com/github/y5496694/blank-app/blob/main/shap_e/examples/sample_image_to_3d.ipynb\" target=\"_parent\"><img src=\"https://colab.research.google.com/assets/colab-badge.svg\" alt=\"Open In Colab\"/></a>"
      ]
    },
    {
      "cell_type": "markdown",
      "source": [
        "# 1. OpenAI shap-e 레포지토리 복제\n",
        "!git clone https://github.com/openai/shap-e.git\n",
        "%cd shap-e\n",
        "\n",
        "# 2. editable 설치로 로컬 코드를 Python 패키지로 등록\n",
        "!pip install -q -e .\n",
        "\n",
        "# 3. 의존성 설치\n",
        "!pip install -q diffusers transformers accelerate trimesh einops\n",
        "\n",
        "# 다시 최상위 디렉토리로\n",
        "%cd ..\n",
        "from google.colab import files\n",
        "\n",
        "# 업로드 위젯이 뜹니다. 여기서 2D 이미지를 골라 올리세요.\n",
        "uploaded = files.upload()\n",
        "# 업로드된 파일 이름을 변수에 담아 둡니다.\n",
        "input_path = next(iter(uploaded.keys()))\n",
        "print(\"✔ 업로드 완료:\", input_path)\n",
        "import torch\n",
        "import numpy as np\n",
        "from PIL import Image\n",
        "from einops import rearrange\n",
        "\n",
        "from shap_e.models.download import load_model\n",
        "from shap_e.util.notebooks import (\n",
        "    load_config,\n",
        "    diffusion_from_config,\n",
        "    decode_latent_mesh,\n",
        ")\n",
        "\n",
        "# 디바이스 설정 (GPU가 없으면 CPU)\n",
        "device = torch.device(\"cuda\" if torch.cuda.is_available() else \"cpu\")\n",
        "\n",
        "# 2D→3D 인코더, 확산 모델 불러오기\n",
        "xm        = load_model('transmitter', device=device)\n",
        "model     = load_model('image300M',    device=device)\n",
        "diffusion = diffusion_from_config(load_config('diffusion'))\n",
        "print(\"✔ 모델 로드 완료\")\n",
        "# 1) 이미지 열고 [-1,1]로 정규화\n",
        "img = Image.open(input_path).convert('RGB').resize((256,256))\n",
        "arr = np.array(img).astype(np.float32) / 127.5 - 1.0\n",
        "view = torch.from_numpy(arr)[None].permute(0,3,1,2).to(device)\n",
        "\n",
        "# 2) 2D→3D 라텐트 인코딩\n",
        "transmitted = xm.encode(view)\n",
        "\n",
        "# 3) 확산 샘플링 (해상도 64³)\n",
        "latents = diffusion.p_sample_loop(\n",
        "    model_fn=lambda x, t, **kw: model(x, t, **kw),\n",
        "    shape=(1, model.in_channels, 64, 64, 64),\n",
        "    device=device,\n",
        "    clip_denoised=True,\n",
        "    model_kwargs={'transmitted_latents': transmitted}\n",
        ")\n",
        "print(\"✔ 3D 라텐트 생성 완료\")\n",
        "# 1) 라텐트 → 메쉬로 디코딩\n",
        "mesh = decode_latent_mesh(xm, latents[0]).tri_mesh()\n",
        "\n",
        "# 2) 파일로 저장\n",
        "mesh.write_obj('output_croc.obj')\n",
        "with open('output_croc.ply','wb') as f:\n",
        "    mesh.write_ply(f)\n",
        "\n",
        "print(\"✅ 저장 완료: output_croc.obj / output_croc.ply\")\n"
      ],
      "metadata": {
        "id": "rLaksYUvliaZ"
      },
      "id": "rLaksYUvliaZ"
    }
  ],
  "metadata": {
    "kernelspec": {
      "display_name": "Python 3 (ipykernel)",
      "language": "python",
      "name": "python3"
    },
    "language_info": {
      "codemirror_mode": {
        "name": "ipython",
        "version": 3
      },
      "file_extension": ".py",
      "mimetype": "text/x-python",
      "name": "python",
      "nbconvert_exporter": "python",
      "pygments_lexer": "ipython3",
      "version": "3.9.9"
    },
    "colab": {
      "provenance": [],
      "include_colab_link": true
    }
  },
  "nbformat": 4,
  "nbformat_minor": 5
}